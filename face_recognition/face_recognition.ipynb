{
 "cells": [
  {
   "cell_type": "markdown",
   "id": "97864d8e-12f4-4d95-8bed-86bdad262281",
   "metadata": {},
   "source": [
    "### Import Libraries"
   ]
  },
  {
   "cell_type": "code",
   "execution_count": 48,
   "id": "4548ff7e-76bc-4853-be9b-c1f52d1319f7",
   "metadata": {},
   "outputs": [],
   "source": [
    "import cv2\n",
    "import numpy as np\n",
    "import face_recognition"
   ]
  },
  {
   "cell_type": "markdown",
   "id": "908f16b8-74d1-4e59-a9cc-bd41582626af",
   "metadata": {},
   "source": [
    "### Face Detection and Encoding for Elon Musk Images\n",
    "This code segment performs face detection and facial feature encoding on images of Elon Musk, previously loaded and preprocessed. It utilizes the face_recognition library to locate the face in each image and encode its facial features."
   ]
  },
  {
   "cell_type": "code",
   "execution_count": 49,
   "id": "a6cf21f5-37dd-489c-a059-5eeb7fea47c8",
   "metadata": {},
   "outputs": [],
   "source": [
    "imgElon = face_recognition.load_image_file('elon musk.jpg')\n",
    "imgElon = cv2.cvtColor(imgElon, cv2.COLOR_BGR2RGB)\n",
    "\n",
    "imgTest = face_recognition.load_image_file('elon test.jpg')\n",
    "imgTest = cv2.cvtColor(imgTest, cv2.COLOR_BGR2RGB)"
   ]
  },
  {
   "cell_type": "code",
   "execution_count": 50,
   "id": "7ca1e264-9654-49cb-a300-47b8b5a31dc5",
   "metadata": {},
   "outputs": [
    {
     "name": "stdout",
     "output_type": "stream",
     "text": [
      " \n"
     ]
    }
   ],
   "source": [
    "faceLoc = face_recognition.face_locations(imgElon)[0]\n",
    "encodeElon = face_recognition.face_encodings(imgElon)[0]\n",
    "cv2.rectangle(imgElon, (faceLoc[3], faceLoc[0]), (faceLoc[1], faceLoc[2]), (255, 0, 255), 2)\n",
    "\n",
    "faceLocTest = face_recognition.face_locations(imgTest)[0]\n",
    "encodeTest = face_recognition.face_encodings(imgTest)[0]\n",
    "cv2.rectangle(imgTest, (faceLocTest[3], faceLocTest[0]), (faceLocTest[1], faceLocTest[2]), (255, 0, 255), 2)\n",
    "\n",
    "print(' ')"
   ]
  },
  {
   "cell_type": "markdown",
   "id": "f19f01cc-1303-4e0d-a97f-77ae269275c2",
   "metadata": {},
   "source": [
    "### Face Comparison and Distance Measurement\n",
    "This code segment performs a comparison between the facial features encoded in two images (Elon Musk's reference image and a test image). It calculates the similarity between the two faces and provides a visual and numerical representation of the comparison results."
   ]
  },
  {
   "cell_type": "code",
   "execution_count": 51,
   "id": "ff6f4ca7-6a71-4790-9584-a1a2eeb65cd1",
   "metadata": {},
   "outputs": [
    {
     "name": "stdout",
     "output_type": "stream",
     "text": [
      "[True] [0.36110954]\n"
     ]
    }
   ],
   "source": [
    "results = face_recognition.compare_faces([encodeElon], encodeTest)\n",
    "faceDis = face_recognition.face_distance([encodeElon], encodeTest)\n",
    "cv2.putText(imgTest, f'{results} {np.round(faceDis, 2)}', (50, 50), cv2.FONT_HERSHEY_COMPLEX,1,(0,0,255),2)\n",
    "print(results, faceDis)"
   ]
  },
  {
   "cell_type": "markdown",
   "id": "f2b80d15-ef98-46de-9024-e3b894b3c0d1",
   "metadata": {},
   "source": [
    "### Face Comparison Between Elon Musk and Bill Gates\n",
    "This code segment compares facial features between two prominent figures, Elon Musk and Bill Gates. It utilizes face recognition techniques to calculate the similarity between their faces and provides visual and numerical results."
   ]
  },
  {
   "cell_type": "code",
   "execution_count": 52,
   "id": "5e0d0eb4-753e-487e-b95d-af3931e172c4",
   "metadata": {},
   "outputs": [
    {
     "name": "stdout",
     "output_type": "stream",
     "text": [
      "[False] [0.76681259]\n"
     ]
    }
   ],
   "source": [
    "imgBill = face_recognition.load_image_file('bill gates.jpg')\n",
    "imgBill = cv2.cvtColor(imgBill, cv2.COLOR_BGR2RGB)\n",
    "\n",
    "faceLocBill = face_recognition.face_locations(imgBill)[0]\n",
    "encodeBill = face_recognition.face_encodings(imgBill)[0]\n",
    "cv2.rectangle(imgBill, (faceLocBill[3], faceLocBill[0]), (faceLocBill[1], faceLocBill[2]), (255, 0, 255), 2)\n",
    "\n",
    "results = face_recognition.compare_faces([encodeElon], encodeBill)\n",
    "faceDis = face_recognition.face_distance([encodeElon], encodeBill)\n",
    "cv2.putText(imgBill, f'{results} {np.round(faceDis, 2)}', (50, 50), cv2.FONT_HERSHEY_COMPLEX,1,(0,0,255),2)\n",
    "print(results, faceDis)"
   ]
  },
  {
   "cell_type": "markdown",
   "id": "3c74982e-2cc8-4446-b943-27c30babe6fc",
   "metadata": {},
   "source": [
    "### Viewing the Images"
   ]
  },
  {
   "cell_type": "code",
   "execution_count": 53,
   "id": "336bfa49-63d1-490d-8fd8-78b5beb28971",
   "metadata": {},
   "outputs": [
    {
     "data": {
      "text/plain": [
       "-1"
      ]
     },
     "execution_count": 53,
     "metadata": {},
     "output_type": "execute_result"
    }
   ],
   "source": [
    "cv2.imshow('Image Elon',imgElon)\n",
    "cv2.imshow('Image test',imgTest)\n",
    "cv2.imshow('Image Bill',imgBill)\n",
    "\n",
    "cv2.waitKey(0)"
   ]
  },
  {
   "cell_type": "code",
   "execution_count": null,
   "id": "cc1ac97f-eb15-4c73-aa18-0a1be7881937",
   "metadata": {},
   "outputs": [],
   "source": []
  }
 ],
 "metadata": {
  "kernelspec": {
   "display_name": "Python 3 (ipykernel)",
   "language": "python",
   "name": "python3"
  },
  "language_info": {
   "codemirror_mode": {
    "name": "ipython",
    "version": 3
   },
   "file_extension": ".py",
   "mimetype": "text/x-python",
   "name": "python",
   "nbconvert_exporter": "python",
   "pygments_lexer": "ipython3",
   "version": "3.11.4"
  }
 },
 "nbformat": 4,
 "nbformat_minor": 5
}
