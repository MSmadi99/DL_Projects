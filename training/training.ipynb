{
 "cells": [
  {
   "cell_type": "markdown",
   "id": "5796ec63-99e8-4200-ad5b-dda5f508fcd1",
   "metadata": {},
   "source": [
    "## Architecture Model"
   ]
  },
  {
   "cell_type": "code",
   "execution_count": 15,
   "id": "827c0d24-f3e3-466b-bfa0-f209e52d98bc",
   "metadata": {},
   "outputs": [],
   "source": [
    "from keras.models import Sequential\n",
    "from keras.layers import Dense\n",
    "from keras.optimizers import SGD"
   ]
  },
  {
   "cell_type": "code",
   "execution_count": 16,
   "id": "d9f24bc5-bf66-459b-a96a-56c153bc0872",
   "metadata": {},
   "outputs": [],
   "source": [
    "model = Sequential()"
   ]
  },
  {
   "cell_type": "code",
   "execution_count": 17,
   "id": "53e3ae65-95cb-4beb-9c95-af0f305e01b4",
   "metadata": {},
   "outputs": [],
   "source": [
    "model.add(Dense(10, input_shape=(4,), activation='tanh'))\n",
    "model.add(Dense(8, activation='tanh'))\n",
    "model.add(Dense(6, activation='tanh'))\n",
    "model.add(Dense(3, activation='softmax'))"
   ]
  },
  {
   "cell_type": "code",
   "execution_count": 18,
   "id": "542ca9db-46b8-4015-849f-0d7cf42056dd",
   "metadata": {},
   "outputs": [
    {
     "name": "stderr",
     "output_type": "stream",
     "text": [
      "WARNING:absl:`lr` is deprecated in Keras optimizer, please use `learning_rate` or use the legacy optimizer, e.g.,tf.keras.optimizers.legacy.SGD.\n"
     ]
    }
   ],
   "source": [
    "model.compile(SGD(lr=0.1), loss='gategorical_crossentropy', metrics=['accuracy'])"
   ]
  },
  {
   "cell_type": "code",
   "execution_count": 19,
   "id": "1ffea132-7a10-4299-bef3-133e49443d1d",
   "metadata": {},
   "outputs": [
    {
     "name": "stdout",
     "output_type": "stream",
     "text": [
      "Model: \"sequential_6\"\n",
      "_________________________________________________________________\n",
      " Layer (type)                Output Shape              Param #   \n",
      "=================================================================\n",
      " dense_19 (Dense)            (None, 10)                50        \n",
      "                                                                 \n",
      " dense_20 (Dense)            (None, 8)                 88        \n",
      "                                                                 \n",
      " dense_21 (Dense)            (None, 6)                 54        \n",
      "                                                                 \n",
      " dense_22 (Dense)            (None, 3)                 21        \n",
      "                                                                 \n",
      "=================================================================\n",
      "Total params: 213 (852.00 Byte)\n",
      "Trainable params: 213 (852.00 Byte)\n",
      "Non-trainable params: 0 (0.00 Byte)\n",
      "_________________________________________________________________\n"
     ]
    }
   ],
   "source": [
    "model.summary()"
   ]
  },
  {
   "cell_type": "markdown",
   "id": "1d7cc71e-60ec-4eb8-9453-11cc47f34c24",
   "metadata": {},
   "source": [
    "## Plotting the model"
   ]
  },
  {
   "cell_type": "code",
   "execution_count": 34,
   "id": "a59fc5a8-728f-4ed8-8ebf-f93b80001c74",
   "metadata": {},
   "outputs": [
    {
     "name": "stdout",
     "output_type": "stream",
     "text": [
      "You must install pydot (`pip install pydot`) and install graphviz (see instructions at https://graphviz.gitlab.io/download/) for plot_model to work.\n"
     ]
    }
   ],
   "source": [
    "from tensorflow.keras.utils import plot_model\n",
    "from keras.models import Sequential\n",
    "from keras.layers import Dense\n",
    "import pydot\n",
    "import graphviz\n",
    "\n",
    "# Create a simple sequential neural network model\n",
    "model = Sequential()\n",
    "model.add(Dense(64, input_shape=(100,), activation='relu'))\n",
    "model.add(Dense(32, activation='relu'))\n",
    "model.add(Dense(10, activation='softmax'))\n",
    "\n",
    "# Visualize the model architecture and save it to a file\n",
    "plot_model(model, to_file='model.png', show_shapes=True, show_layer_names=True)\n"
   ]
  },
  {
   "cell_type": "code",
   "execution_count": null,
   "id": "1a4d2482-2ed8-4309-922c-591276885e55",
   "metadata": {},
   "outputs": [],
   "source": []
  }
 ],
 "metadata": {
  "kernelspec": {
   "display_name": "Python 3 (ipykernel)",
   "language": "python",
   "name": "python3"
  },
  "language_info": {
   "codemirror_mode": {
    "name": "ipython",
    "version": 3
   },
   "file_extension": ".py",
   "mimetype": "text/x-python",
   "name": "python",
   "nbconvert_exporter": "python",
   "pygments_lexer": "ipython3",
   "version": "3.11.4"
  }
 },
 "nbformat": 4,
 "nbformat_minor": 5
}
