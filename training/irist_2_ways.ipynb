{
 "cells": [
  {
   "cell_type": "markdown",
   "id": "887c00f2-c6ca-4792-a45a-fea3d67da6c9",
   "metadata": {},
   "source": [
    "# Iris dataset using machine learning"
   ]
  },
  {
   "cell_type": "code",
   "execution_count": 56,
   "id": "e98481db-3886-4b55-bf07-f0a103788447",
   "metadata": {},
   "outputs": [],
   "source": [
    "import numpy as np\n",
    "import pandas as pd\n",
    "import matplotlib.pyplot as ply\n",
    "import seaborn as sns\n",
    "\n",
    "from sklearn import datasets\n",
    "from sklearn.model_selection import train_test_split\n",
    "from sklearn.metrics import accuracy_score\n",
    "from sklearn.linear_model import LogisticRegression\n",
    "\n",
    "import warnings\n",
    "warnings.filterwarnings('ignore')"
   ]
  },
  {
   "cell_type": "code",
   "execution_count": 57,
   "id": "5026b3d5-4431-4ac3-a8e5-6a132e719063",
   "metadata": {},
   "outputs": [],
   "source": [
    "iris = datasets.load_iris()\n",
    "X, y = iris.data, iris.target"
   ]
  },
  {
   "cell_type": "code",
   "execution_count": 58,
   "id": "9d6102a0-72a8-4cb7-8eaf-8a526ca65a08",
   "metadata": {},
   "outputs": [],
   "source": [
    "X_train, X_test, y_train, y_test = train_test_split(X, y, test_size=0.25, random_state=42)\n",
    "\n",
    "model = LogisticRegression()\n",
    "model.fit(X_train, y_train)\n",
    "y_pred = model.predict(X_test)"
   ]
  },
  {
   "cell_type": "code",
   "execution_count": 59,
   "id": "b6ae3737-0c3b-47dd-bbd2-b5f3c3962c08",
   "metadata": {},
   "outputs": [
    {
     "name": "stdout",
     "output_type": "stream",
     "text": [
      "Accuracy:  100.00 %\n"
     ]
    }
   ],
   "source": [
    "accuracy = accuracy_score(y_pred, y_test)\n",
    "print(f'Accuracy: {accuracy*100: .2f} %' )"
   ]
  },
  {
   "cell_type": "markdown",
   "id": "cba43040-86f8-474d-8f8d-4f14915f1859",
   "metadata": {},
   "source": [
    "# Iris dataset using deep learning"
   ]
  },
  {
   "cell_type": "code",
   "execution_count": 64,
   "id": "62048855-6db7-432a-97d2-017e595fe54f",
   "metadata": {},
   "outputs": [],
   "source": [
    "from keras.models import Sequential\n",
    "from keras.layers import Dense, Activation\n",
    "from keras.utils import to_categorical"
   ]
  },
  {
   "cell_type": "code",
   "execution_count": 66,
   "id": "9bfd15ba-067a-47de-a60a-8697c7de9494",
   "metadata": {},
   "outputs": [
    {
     "name": "stdout",
     "output_type": "stream",
     "text": [
      "Accuracy:  100.00 %\n"
     ]
    }
   ],
   "source": [
    "model2 = Sequential()\n",
    "\n",
    "model2.add(Dense(16, input_shape=(4,)))\n",
    "model2.add(Activation('sigmoid'))\n",
    "model2.add(Dense(3))\n",
    "model2.add(Activation('softmax'))\n",
    "\n",
    "y_train_encoded = to_categorical(y_train)\n",
    "y_test_encoded = to_categorical(y_test)\n",
    "\n",
    "model2.compile(optimizer='adam', loss='categorical_crossentropy', metrics=['accuracy'])\n",
    "model2.fit(X_train, y_train_encoded, epochs=100, batch_size=1, verbose=0)\n",
    "\n",
    "loss, accuracy = model2.evaluate(X_test, y_test_encoded, verbose=0)\n",
    "print(f'Accuracy: {accuracy*100: .2f} %' )"
   ]
  },
  {
   "cell_type": "code",
   "execution_count": null,
   "id": "eb5e002f-de95-4885-9bd2-d8b22f32faeb",
   "metadata": {},
   "outputs": [],
   "source": []
  }
 ],
 "metadata": {
  "kernelspec": {
   "display_name": "Python 3 (ipykernel)",
   "language": "python",
   "name": "python3"
  },
  "language_info": {
   "codemirror_mode": {
    "name": "ipython",
    "version": 3
   },
   "file_extension": ".py",
   "mimetype": "text/x-python",
   "name": "python",
   "nbconvert_exporter": "python",
   "pygments_lexer": "ipython3",
   "version": "3.11.4"
  }
 },
 "nbformat": 4,
 "nbformat_minor": 5
}
